{
 "cells": [
  {
   "cell_type": "markdown",
   "metadata": {
    "colab_type": "text",
    "id": "UncprnB0ymAE"
   },
   "source": [
    "Below is code with a link to a happy or sad dataset which contains 80 images, 40 happy and 40 sad. \n",
    "Create a convolutional neural network that trains to 100% accuracy on these images,  which cancels training upon hitting training accuracy of >.999\n",
    "\n",
    "Hint -- it will work best with 3 convolutional layers."
   ]
  },
  {
   "cell_type": "code",
   "execution_count": 1,
   "metadata": {},
   "outputs": [],
   "source": [
    "import tensorflow as tf\n",
    "import os\n",
    "import zipfile\n",
    "from os import path, getcwd, chdir\n",
    "\n",
    "# DO NOT CHANGE THE LINE BELOW. If you are developing in a local\n",
    "# environment, then grab happy-or-sad.zip from the Coursera Jupyter Notebook\n",
    "# and place it inside a local folder and edit the path to that location\n",
    "path = f\"{getcwd()}/../tmp2/happy-or-sad.zip\"\n",
    "\n",
    "zip_ref = zipfile.ZipFile(path, 'r')\n",
    "zip_ref.extractall(\"/tmp/h-or-s\")\n",
    "zip_ref.close()"
   ]
  },
  {
   "cell_type": "code",
   "execution_count": 2,
   "metadata": {},
   "outputs": [],
   "source": [
    "# GRADED FUNCTION: train_happy_sad_model\n",
    "def train_happy_sad_model():\n",
    "    # Please write your code only where you are indicated.\n",
    "    # please do not remove # model fitting inline comments.\n",
    "\n",
    "    DESIRED_ACCURACY = 0.999\n",
    "\n",
    "    class myCallback(tf.keras.callbacks.Callback):\n",
    "         # Your Code \n",
    "        def on_epoch_end(self, epoch, logs={}): \n",
    "            if(logs.get('acc') > DESIRED_ACCURACY):   \n",
    "                print(\"\\nReached %2.2f%% accuracy, so stopping training!!\" %(DESIRED_ACCURACY*100))   \n",
    "                self.model.stop_training = True\n",
    "\n",
    "    callbacks = myCallback()\n",
    "    \n",
    "    # This Code Block should Define and Compile the Model. Please assume the images are 150 X 150 in your implementation.\n",
    "    model = tf.keras.models.Sequential([\n",
    "        # Your Code Here\n",
    "        tf.keras.layers.Conv2D(16,(3,3), activation='relu', input_shape=(150, 150, 3)),\n",
    "        tf.keras.layers.MaxPooling2D(2,2),\n",
    "        tf.keras.layers.Conv2D(32, (3,3), activation='relu'),\n",
    "        tf.keras.layers.MaxPooling2D(2,2),\n",
    "        tf.keras.layers.Conv2D(64,(3,3),activation='relu'),\n",
    "        tf.keras.layers.MaxPooling2D(2,2),\n",
    "        tf.keras.layers.Flatten(),\n",
    "        tf.keras.layers.Dense(512, activation='relu'),\n",
    "        tf.keras.layers.Dense(1,activation='sigmoid')\n",
    "    ])\n",
    "\n",
    "    from tensorflow.keras.optimizers import RMSprop\n",
    "\n",
    "    model.compile(# Your Code Here #\n",
    "                    loss = 'binary_crossentropy',\n",
    "                    optimizer=RMSprop(lr=0.001),\n",
    "                    metrics=['accuracy'],\n",
    "    )\n",
    "        \n",
    "\n",
    "    # This code block should create an instance of an ImageDataGenerator called train_datagen \n",
    "    # And a train_generator by calling train_datagen.flow_from_directory\n",
    "\n",
    "    from tensorflow.keras.preprocessing.image import ImageDataGenerator\n",
    "\n",
    "    train_datagen = ImageDataGenerator(rescale=1/255) # Your Code Here#\n",
    "\n",
    "    # Please use a target_size of 150 X 150.\n",
    "    train_generator = train_datagen.flow_from_directory(\n",
    "        '/tmp/h-or-s',\n",
    "        target_size=(150,150),\n",
    "        batch_size = 40,\n",
    "        class_mode = 'binary',\n",
    "        # Your Code Here\n",
    "    )\n",
    "    # Expected output: 'Found 80 images belonging to 2 classes'\n",
    "\n",
    "    # This code block should call model.fit_generator and train for\n",
    "    # a number of epochs.\n",
    "    # model fitting\n",
    "    history = model.fit_generator(\n",
    "          # Your Code Here\n",
    "            train_generator,\n",
    "            steps_per_epoch = 2,\n",
    "            epochs = 25,\n",
    "            verbose=1,\n",
    "            callbacks=[callbacks],\n",
    "\n",
    "    )\n",
    "    # model fitting\n",
    "    return history.history['acc'][-1]"
   ]
  },
  {
   "cell_type": "code",
   "execution_count": 3,
   "metadata": {},
   "outputs": [
    {
     "name": "stderr",
     "output_type": "stream",
     "text": [
      "WARNING: Logging before flag parsing goes to stderr.\n",
      "W0409 19:27:12.381702 140367794911040 deprecation.py:506] From /usr/local/lib/python3.6/dist-packages/tensorflow/python/ops/init_ops.py:1251: calling VarianceScaling.__init__ (from tensorflow.python.ops.init_ops) with dtype is deprecated and will be removed in a future version.\n",
      "Instructions for updating:\n",
      "Call initializer instance with the dtype argument instead of passing it to the constructor\n",
      "W0409 19:27:12.864590 140367794911040 deprecation.py:323] From /usr/local/lib/python3.6/dist-packages/tensorflow/python/ops/nn_impl.py:180: add_dispatch_support.<locals>.wrapper (from tensorflow.python.ops.array_ops) is deprecated and will be removed in a future version.\n",
      "Instructions for updating:\n",
      "Use tf.where in 2.0, which has the same broadcast rule as np.where\n"
     ]
    },
    {
     "name": "stdout",
     "output_type": "stream",
     "text": [
      "Found 80 images belonging to 2 classes.\n",
      "Epoch 1/25\n",
      "2/2 [==============================] - 6s 3s/step - loss: 2.7565 - acc: 0.3875\n",
      "Epoch 2/25\n",
      "2/2 [==============================] - 0s 163ms/step - loss: 0.9782 - acc: 0.5250\n",
      "Epoch 3/25\n",
      "2/2 [==============================] - 0s 191ms/step - loss: 0.6389 - acc: 0.9250\n",
      "Epoch 4/25\n",
      "2/2 [==============================] - 0s 159ms/step - loss: 0.5495 - acc: 0.7500\n",
      "Epoch 5/25\n",
      "2/2 [==============================] - 0s 188ms/step - loss: 0.5716 - acc: 0.7125\n",
      "Epoch 6/25\n",
      "2/2 [==============================] - 0s 161ms/step - loss: 0.5447 - acc: 0.6375\n",
      "Epoch 7/25\n",
      "2/2 [==============================] - 0s 186ms/step - loss: 0.2837 - acc: 0.9875\n",
      "Epoch 8/25\n",
      "2/2 [==============================] - 0s 156ms/step - loss: 0.2190 - acc: 0.9125\n",
      "Epoch 9/25\n",
      "2/2 [==============================] - 0s 193ms/step - loss: 0.3403 - acc: 0.8375\n",
      "Epoch 10/25\n",
      "2/2 [==============================] - 0s 193ms/step - loss: 0.2283 - acc: 0.9125\n",
      "Epoch 11/25\n",
      "2/2 [==============================] - 0s 163ms/step - loss: 0.0900 - acc: 0.9750\n",
      "Epoch 12/25\n",
      "2/2 [==============================] - 0s 159ms/step - loss: 0.0952 - acc: 0.9750\n",
      "Epoch 13/25\n",
      "2/2 [==============================] - 0s 159ms/step - loss: 0.0750 - acc: 0.9500\n",
      "Epoch 14/25\n",
      "2/2 [==============================] - 0s 162ms/step - loss: 0.0918 - acc: 0.9500\n",
      "Epoch 15/25\n",
      "2/2 [==============================] - 0s 188ms/step - loss: 0.1292 - acc: 0.9500\n",
      "Epoch 16/25\n",
      "2/2 [==============================] - 0s 159ms/step - loss: 0.0463 - acc: 0.9750\n",
      "Epoch 17/25\n",
      "1/2 [==============>...............] - ETA: 0s - loss: 0.0342 - acc: 1.0000\n",
      "Reached 99.90% accuracy, so stopping training!!\n",
      "2/2 [==============================] - 0s 191ms/step - loss: 0.0244 - acc: 1.0000\n"
     ]
    },
    {
     "data": {
      "text/plain": [
       "1.0"
      ]
     },
     "execution_count": 3,
     "metadata": {},
     "output_type": "execute_result"
    }
   ],
   "source": [
    "# The Expected output: \"Reached 99.9% accuracy so cancelling training!\"\"\n",
    "train_happy_sad_model()"
   ]
  },
  {
   "cell_type": "code",
   "execution_count": 4,
   "metadata": {},
   "outputs": [],
   "source": [
    "# Now click the 'Submit Assignment' button above.\n",
    "# Once that is complete, please run the following two cells to save your work and close the notebook"
   ]
  }
 ],
 "metadata": {
  "coursera": {
   "course_slug": "introduction-tensorflow",
   "graded_item_id": "1kAlw",
   "launcher_item_id": "PNLYD"
  },
  "kernelspec": {
   "display_name": "Python 3",
   "language": "python",
   "name": "python3"
  },
  "language_info": {
   "codemirror_mode": {
    "name": "ipython",
    "version": 3
   },
   "file_extension": ".py",
   "mimetype": "text/x-python",
   "name": "python",
   "nbconvert_exporter": "python",
   "pygments_lexer": "ipython3",
   "version": "3.6.8"
  }
 },
 "nbformat": 4,
 "nbformat_minor": 1
}
